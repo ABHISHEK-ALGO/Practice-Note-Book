{
 "cells": [
  {
   "cell_type": "code",
   "execution_count": 75,
   "id": "2668621b-241d-4b79-a4ed-c97a90b42a16",
   "metadata": {},
   "outputs": [],
   "source": [
    "a = \"charlie chchaplin coa and the chocolate factory\"\n",
    "b = \"ayushi.jain@gmail.com\"\n",
    "c = \"hello hello\"\n",
    "d = \"xyz,yz,xyzz,xyyz,xxzzy,zyz,xxy\"\n",
    "import re"
   ]
  },
  {
   "cell_type": "code",
   "execution_count": 12,
   "id": "2e155305-be32-4bea-839c-26a3d1c3c90e",
   "metadata": {},
   "outputs": [
    {
     "name": "stdout",
     "output_type": "stream",
     "text": [
      "<re.Match object; span=(6, 7), match='.'>\n"
     ]
    }
   ],
   "source": [
    "ma = re.search(r\"\\.\",b)\n",
    "print(ma)"
   ]
  },
  {
   "cell_type": "code",
   "execution_count": 15,
   "id": "2d3fda2d-4879-4d54-9b23-279b4280651e",
   "metadata": {},
   "outputs": [
    {
     "name": "stdout",
     "output_type": "stream",
     "text": [
      "<re.Match object; span=(11, 12), match='@'>\n"
     ]
    }
   ],
   "source": [
    "ma = re.search(r\"[@]\",b)\n",
    "print(ma)"
   ]
  },
  {
   "cell_type": "code",
   "execution_count": 17,
   "id": "bf93e5d9-d244-4088-95ef-e2760435ed1f",
   "metadata": {},
   "outputs": [
    {
     "name": "stdout",
     "output_type": "stream",
     "text": [
      "<re.Match object; span=(2, 3), match='l'>\n"
     ]
    }
   ],
   "source": [
    "ma = re.search(r\"[l]\",c)\n",
    "print(ma)"
   ]
  },
  {
   "cell_type": "code",
   "execution_count": 21,
   "id": "5b514426-0de5-4ea3-9289-aa29bb187d21",
   "metadata": {},
   "outputs": [
    {
     "name": "stdout",
     "output_type": "stream",
     "text": [
      "['a', 'a', 'a']\n"
     ]
    }
   ],
   "source": [
    "ma = re.findall(r\"[a]\",b)\n",
    "print(ma)"
   ]
  },
  {
   "cell_type": "code",
   "execution_count": 39,
   "id": "1069b8eb-3d1e-43db-ada8-fbf2bdc53a05",
   "metadata": {},
   "outputs": [
    {
     "name": "stdout",
     "output_type": "stream",
     "text": [
      "['h']\n",
      "<re.Match object; span=(18, 21), match='com'>\n"
     ]
    }
   ],
   "source": [
    "ma = re.findall(r\"^h\",c)\n",
    "print(ma)\n",
    "ma = re.search(r\"com$\",b)\n",
    "print(ma)"
   ]
  },
  {
   "cell_type": "code",
   "execution_count": null,
   "id": "039424be-b524-4bc4-bc51-127b8eff48f6",
   "metadata": {},
   "outputs": [],
   "source": [
    "ma = re.search(r\"[l]\",c)\n",
    "print(ma)"
   ]
  },
  {
   "cell_type": "code",
   "execution_count": 47,
   "id": "78ca2ed1-d799-40e7-bafa-c40ee7a4768b",
   "metadata": {},
   "outputs": [
    {
     "name": "stdout",
     "output_type": "stream",
     "text": [
      "<re.Match object; span=(0, 3), match='cha'>\n",
      "['cha', 'cha', 'coa']\n"
     ]
    }
   ],
   "source": [
    "ma = re.search(r\"c.a\",a)\n",
    "print(ma)\n",
    "ma = re.findall(r\"c.a\",a)\n",
    "print(ma)"
   ]
  },
  {
   "cell_type": "code",
   "execution_count": 53,
   "id": "4a363e3a-9b78-4b4b-9ff9-6add2cd35fcb",
   "metadata": {},
   "outputs": [
    {
     "name": "stdout",
     "output_type": "stream",
     "text": [
      "<re.Match object; span=(0, 3), match='cha'>\n",
      "['cha', 'cha', 'fac']\n"
     ]
    }
   ],
   "source": [
    "ma = re.search(r\"cha|fac\",a)\n",
    "print(ma)\n",
    "ma = re.findall(r\"cha|fac\",a)\n",
    "print(ma)"
   ]
  },
  {
   "cell_type": "code",
   "execution_count": 91,
   "id": "e1714a94-051e-4682-9d0a-926f7c5572cd",
   "metadata": {},
   "outputs": [
    {
     "name": "stdout",
     "output_type": "stream",
     "text": [
      "['he', 'he']\n"
     ]
    }
   ],
   "source": [
    "ma = re.findall(r\"h*e\",c)\n",
    "print(ma)"
   ]
  },
  {
   "cell_type": "code",
   "execution_count": 103,
   "id": "2ff98fc7-9c8d-4757-8a45-04044352bd0a",
   "metadata": {},
   "outputs": [
    {
     "name": "stdout",
     "output_type": "stream",
     "text": [
      "['x', 'x', 'x', 'xx', 'xx']\n",
      "['e', 'e']\n",
      "['x', 'x', 'y']\n"
     ]
    }
   ],
   "source": [
    "ma = re.findall(r\"x{1,2}\",d)\n",
    "print(ma)\n",
    "ma = re.findall(r\"e{1,2}\",c)\n",
    "print(ma)\n",
    "ma = re.findall(r\"(x|y)yz\",d)\n",
    "print(ma)"
   ]
  },
  {
   "cell_type": "code",
   "execution_count": 143,
   "id": "d0d7f746-42a3-451a-8431-1bc34b2ca2f8",
   "metadata": {},
   "outputs": [
    {
     "name": "stdout",
     "output_type": "stream",
     "text": [
      "<re.Match object; span=(0, 3), match='har'>\n",
      "<re.Match object; span=(0, 1), match='h'>\n",
      "None\n",
      "<re.Match object; span=(0, 1), match='h'>\n",
      "<re.Match object; span=(4, 5), match='y'>\n"
     ]
    }
   ],
   "source": [
    "# Special sequences\n",
    "a = \"harry1 potter@ 4582\"\n",
    "\n",
    "ma = re.search(r'\\Ahar',a)\n",
    "print(ma)\n",
    "ma = re.search(r'\\bh',a) # searches first letter when \\bh\n",
    "print(ma)\n",
    "ma = re.search(r'y\\b',a)# searches last side when y\\b\n",
    "print(ma)\n",
    "ma = re.search(r'h\\B',a) # opposite of \\b \n",
    "print(ma)\n",
    "ma = re.search(r'\\By',a)\n",
    "print(ma)"
   ]
  },
  {
   "cell_type": "code",
   "execution_count": 141,
   "id": "d1574246-ba52-403d-a53c-dda2f1d8c53a",
   "metadata": {},
   "outputs": [
    {
     "name": "stdout",
     "output_type": "stream",
     "text": [
      "<re.Match object; span=(5, 6), match='1'>\n",
      "['1']\n"
     ]
    }
   ],
   "source": [
    "# decimal\n",
    "ma = re.search(r'\\d',a)\n",
    "print(ma)\n",
    "ma = re.findall(r'\\d',a)\n",
    "print(ma)"
   ]
  },
  {
   "cell_type": "code",
   "execution_count": 155,
   "id": "8d66f199-a159-4422-926d-7df5fa31ed64",
   "metadata": {},
   "outputs": [
    {
     "name": "stdout",
     "output_type": "stream",
     "text": [
      "['h', 'a', 'r', 'r', 'y', '1', 'p', 'o', 't', 't', 'e', 'r', '@', '4', '5', '8', '2']\n"
     ]
    }
   ],
   "source": [
    "# ma = re.findall(r'\\D',a)#everything except decimal\n",
    "# print(ma)\n",
    "# ma = re.search(r'\\s',a)\n",
    "# print(ma)\n",
    "ma = re.findall(r'\\S',a)\n",
    "print(ma)"
   ]
  },
  {
   "cell_type": "code",
   "execution_count": 163,
   "id": "74d9e1ef-2263-4352-bc92-0bb03aa99c73",
   "metadata": {},
   "outputs": [
    {
     "name": "stdout",
     "output_type": "stream",
     "text": [
      "['h', 'a', 'r', 'r', 'y', '1', 'p', 'o', 't', 't', 'e', 'r', '4', '5', '8', '2']\n",
      "[' ', '@', ' ']\n",
      "['2']\n"
     ]
    }
   ],
   "source": [
    "ma = re.findall(r'\\w',a) # alphanumeric\n",
    "print(ma)\n",
    "ma = re.findall(r'\\W',a)# non alphnum\n",
    "print(ma)\n",
    "ma = re.findall(r'2\\Z',a)# last letter\n",
    "print(ma)"
   ]
  }
 ],
 "metadata": {
  "kernelspec": {
   "display_name": "Python 3 (ipykernel)",
   "language": "python",
   "name": "python3"
  },
  "language_info": {
   "codemirror_mode": {
    "name": "ipython",
    "version": 3
   },
   "file_extension": ".py",
   "mimetype": "text/x-python",
   "name": "python",
   "nbconvert_exporter": "python",
   "pygments_lexer": "ipython3",
   "version": "3.11.7"
  }
 },
 "nbformat": 4,
 "nbformat_minor": 5
}
