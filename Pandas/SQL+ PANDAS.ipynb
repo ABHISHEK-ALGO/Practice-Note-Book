{
 "cells": [
  {
   "cell_type": "code",
   "execution_count": 2,
   "id": "08d92b6f-65b0-4452-bf95-266f4038bf68",
   "metadata": {},
   "outputs": [],
   "source": [
    "import pandas as pd\n"
   ]
  },
  {
   "cell_type": "code",
   "execution_count": 3,
   "id": "1e493c32-ea0f-405f-83a4-f533b2b4f9c5",
   "metadata": {},
   "outputs": [
    {
     "name": "stdout",
     "output_type": "stream",
     "text": [
      "   WORKER_ID FIRST_NAME LAST_NAME  SALARY         JOINING_DATE DEPARTMENT\n",
      "0          1     Monika     Arora  100000  2020-02-14 09:00:00         HR\n",
      "1          2   Niharika     Verma   80000  2011-06-14 09:00:00      Admin\n",
      "2          3     Vishal   Singhal  300000  2020-02-14 09:00:00         HR\n",
      "3          4    Amitabh     Singh  500000  2020-02-14 09:00:00      Admin\n",
      "4          5      Vivek     Bhati  500000  2011-06-14 09:00:00      Admin\n",
      "5          6      Vipul     Diwan  200000  2011-06-14 09:00:00    Account\n",
      "6          7     Satish     Kumar   75000  2020-01-14 09:00:00    Account\n",
      "7          8    Geetika   Chauhan   90000  2011-04-14 09:00:00      Admin\n"
     ]
    }
   ],
   "source": [
    "columns = [\"WORKER_ID\", \"FIRST_NAME\", \"LAST_NAME\", \"SALARY\", \"JOINING_DATE\", \"DEPARTMENT\"]\n",
    "data = [\n",
    "    (1, 'Monika', 'Arora', 100000, '2020-02-14 09:00:00', 'HR'),\n",
    "    (2, 'Niharika', 'Verma', 80000, '2011-06-14 09:00:00', 'Admin'),\n",
    "    (3, 'Vishal', 'Singhal', 300000, '2020-02-14 09:00:00', 'HR'),\n",
    "    (4, 'Amitabh', 'Singh', 500000, '2020-02-14 09:00:00', 'Admin'),\n",
    "    (5, 'Vivek', 'Bhati', 500000, '2011-06-14 09:00:00', 'Admin'),\n",
    "    (6, 'Vipul', 'Diwan', 200000, '2011-06-14 09:00:00', 'Account'),\n",
    "    (7, 'Satish', 'Kumar', 75000, '2020-01-14 09:00:00', 'Account'),\n",
    "    (8, 'Geetika', 'Chauhan', 90000, '2011-04-14 09:00:00', 'Admin')\n",
    "]\n",
    "df = pd.DataFrame(data,columns = columns)\n",
    "print(df)\n",
    "df[\"JOINING_DATE\"] = pd.to_datetime(df[\"JOINING_DATE\"])"
   ]
  },
  {
   "cell_type": "code",
   "execution_count": 4,
   "id": "b81663e4-7dd1-49f2-8cdd-7c0724dd15c5",
   "metadata": {},
   "outputs": [
    {
     "name": "stdout",
     "output_type": "stream",
     "text": [
      "   WORKER_REF_ID  BONUS_AMOUNT BONUS_DATE\n",
      "0              1          5000 2020-02-16\n",
      "1              2          3000 2011-06-16\n",
      "2              3          4000 2020-02-16\n",
      "3              1          4500 2020-02-16\n",
      "4              2          3500 2011-06-16\n"
     ]
    },
    {
     "name": "stderr",
     "output_type": "stream",
     "text": [
      "C:\\Users\\HP\\AppData\\Local\\Temp\\ipykernel_15980\\3887779754.py:10: UserWarning: Could not infer format, so each element will be parsed individually, falling back to `dateutil`. To ensure parsing is consistent and as-expected, please specify a format.\n",
      "  df2[\"BONUS_DATE\"] = pd.to_datetime(df2[\"BONUS_DATE\"])\n"
     ]
    }
   ],
   "source": [
    "columns = ['WORKER_REF_ID', 'BONUS_AMOUNT', 'BONUS_DATE']\n",
    "data = [\n",
    "    (1, 5000, '16-02-20'),\n",
    "\t\t(2, 3000, '16-06-11'),\n",
    "\t\t(3, 4000, '16-02-20'),\n",
    "\t\t(1, 4500, '16-02-20'),\n",
    "\t\t(2, 3500, '16-06-11')\n",
    "]\n",
    "df2 = pd.DataFrame(data,columns = columns)\n",
    "df2[\"BONUS_DATE\"] = pd.to_datetime(df2[\"BONUS_DATE\"])\n",
    "print(df2)"
   ]
  },
  {
   "cell_type": "code",
   "execution_count": 5,
   "id": "7a629e2e-d731-4d4e-b9a1-90b920b749e8",
   "metadata": {},
   "outputs": [
    {
     "name": "stdout",
     "output_type": "stream",
     "text": [
      "   WORKER_REF_ID   WORKER_TITLE AFFECTED_FROM\n",
      "0              1        Manager    2016-02-20\n",
      "1              2      Executive    2016-06-11\n",
      "2              8      Executive    2016-06-11\n",
      "3              5        Manager    2016-06-11\n",
      "4              4  Asst. Manager    2016-06-11\n",
      "5              7      Executive    2016-06-11\n",
      "6              6           Lead    2016-06-11\n",
      "7              3           Lead    2016-06-11\n"
     ]
    }
   ],
   "source": [
    "col = ['WORKER_REF_ID', 'WORKER_TITLE', 'AFFECTED_FROM']\n",
    "data = [(1, 'Manager', '2016-02-20 00:00:00'),\n",
    " (2, 'Executive', '2016-06-11 00:00:00'),\n",
    " (8, 'Executive', '2016-06-11 00:00:00'),\n",
    " (5, 'Manager', '2016-06-11 00:00:00'),\n",
    " (4, 'Asst. Manager', '2016-06-11 00:00:00'),\n",
    " (7, 'Executive', '2016-06-11 00:00:00'),\n",
    " (6, 'Lead', '2016-06-11 00:00:00'),\n",
    " (3, 'Lead', '2016-06-11 00:00:00')]\n",
    "df3 = pd.DataFrame(data,columns = col)\n",
    "df3[\"AFFECTED_FROM\"] = pd.to_datetime(df3[\"AFFECTED_FROM\"])\n",
    "print(df3)"
   ]
  },
  {
   "cell_type": "code",
   "execution_count": 6,
   "id": "95ce9313-5cc0-4936-9747-d6e326e76efe",
   "metadata": {},
   "outputs": [],
   "source": [
    "#query to fetch “FIRST_NAME” from Worker table using the alias name as <WORKER_NAME>.\n",
    "#SELECT FIRST_NAME AS WORKER_NAME FROM WORKER;\n",
    "df_worker_name = df[[\"FIRST_NAME\"]].rename(columns={\"FIRST_NAME\":\"WORKER_NAME\"})"
   ]
  },
  {
   "cell_type": "code",
   "execution_count": 7,
   "id": "ca11a325-1232-4944-bedb-ef28f9ffe357",
   "metadata": {},
   "outputs": [],
   "source": [
    "# in upper case \n",
    "# SELECT UPPER(FIRST_NAME) AS WORKER_NAME FROM WORKER;\n",
    "df_worker_name[\"WORKER_NAME\"] = df_worker_name[\"WORKER_NAME\"].str.upper()"
   ]
  },
  {
   "cell_type": "code",
   "execution_count": 8,
   "id": "dcfa2ba1-4ca0-465c-b594-4c6ed2d5489a",
   "metadata": {},
   "outputs": [
    {
     "data": {
      "text/plain": [
       "0         HR\n",
       "1      Admin\n",
       "2    Account\n",
       "Name: DEPARTMENT, dtype: object"
      ]
     },
     "execution_count": 8,
     "metadata": {},
     "output_type": "execute_result"
    }
   ],
   "source": [
    "#Fetching unique values of the 'DEPARTMENT' column and renaming it to 'UNOQUE_DEPT'\n",
    "# SELECT DISTINCT(DEPARTMENT) AS UNOQUE_DEPT FROM WORKER;\n",
    "df_uniq_dept = df[\"DEPARTMENT\"].drop_duplicates().reset_index(drop = True)\n",
    "df_uniq_dept.head()"
   ]
  },
  {
   "cell_type": "code",
   "execution_count": 11,
   "id": "96c89b03-82b4-49a5-adc1-eadc42aec0b7",
   "metadata": {},
   "outputs": [],
   "source": [
    "# Extracting the first three characters of 'FIRST_NAME' and renaming the column to 'FIRST_3'\n",
    "# SELECT SUBSTRING(FIRST_NAME,1,3) AS FIRST_3 FROM WORKER;\n",
    "df_first_3 = df[\"FIRST_NAME\"].str[:3]"
   ]
  },
  {
   "cell_type": "code",
   "execution_count": 13,
   "id": "1fc68336-0dbc-4b73-957b-0cf1dbd58c98",
   "metadata": {},
   "outputs": [
    {
     "name": "stdout",
     "output_type": "stream",
     "text": [
      "3    5\n",
      "Name: FIRST_NAME, dtype: int64\n"
     ]
    }
   ],
   "source": [
    "# Finding the position of the alphabet 'b' in the FIRST_NAME column where FIRST_NAME is 'Amitabh'\n",
    "# SELECT INSTR(FIRST_NAME,'b') from WORKER WHERE FIRST_NAME = 'Amitabh';\n",
    "# SELECT INSTR('Abhishek Singh Malviya','M') ;\n",
    "df.loc[df['FIRST_NAME']=='Amitabh','FIRST_NAME'].str.find('b')\n",
    "position_b = df.loc[df['FIRST_NAME'] == 'Amitabh', 'FIRST_NAME'].str.find('b')\n",
    "print(position_b)"
   ]
  },
  {
   "cell_type": "code",
   "execution_count": 25,
   "id": "d74c22aa-6dbc-4913-9ba8-37f36092272e",
   "metadata": {
    "scrolled": true
   },
   "outputs": [
    {
     "data": {
      "text/plain": [
       "0      Monika\n",
       "1    Niharika\n",
       "2      Vishal\n",
       "3     Amitabh\n",
       "4       Vivek\n",
       "5       Vipul\n",
       "6      Satish\n",
       "7     Geetika\n",
       "Name: FIRST_NAME, dtype: object"
      ]
     },
     "execution_count": 25,
     "metadata": {},
     "output_type": "execute_result"
    }
   ],
   "source": [
    "# Write an SQL query to print the FIRST_NAME from Worker table after removing white spaces from the right side.\n",
    "# SELECT RTRIM(FIRST_NAME) AS FIRST_NAME FROM WORKER;\n",
    "df[\"FIRST_NAME\"]=df[\"FIRST_NAME\"].str.lstrip()\n",
    "df[\"FIRST_NAME\"]"
   ]
  },
  {
   "cell_type": "code",
   "execution_count": 51,
   "id": "eb4129ed-b7b7-4e3b-8e95-e45db673c598",
   "metadata": {},
   "outputs": [
    {
     "data": {
      "text/html": [
       "<div>\n",
       "<style scoped>\n",
       "    .dataframe tbody tr th:only-of-type {\n",
       "        vertical-align: middle;\n",
       "    }\n",
       "\n",
       "    .dataframe tbody tr th {\n",
       "        vertical-align: top;\n",
       "    }\n",
       "\n",
       "    .dataframe thead th {\n",
       "        text-align: right;\n",
       "    }\n",
       "</style>\n",
       "<table border=\"1\" class=\"dataframe\">\n",
       "  <thead>\n",
       "    <tr style=\"text-align: right;\">\n",
       "      <th></th>\n",
       "      <th>DEPARTMENT</th>\n",
       "      <th>LENGTH</th>\n",
       "    </tr>\n",
       "  </thead>\n",
       "  <tbody>\n",
       "    <tr>\n",
       "      <th>0</th>\n",
       "      <td>Account</td>\n",
       "      <td>2</td>\n",
       "    </tr>\n",
       "    <tr>\n",
       "      <th>1</th>\n",
       "      <td>Admin</td>\n",
       "      <td>5</td>\n",
       "    </tr>\n",
       "    <tr>\n",
       "      <th>2</th>\n",
       "      <td>HR</td>\n",
       "      <td>2</td>\n",
       "    </tr>\n",
       "  </tbody>\n",
       "</table>\n",
       "</div>"
      ],
      "text/plain": [
       "  DEPARTMENT  LENGTH\n",
       "0    Account       2\n",
       "1      Admin       5\n",
       "2         HR       2"
      ]
     },
     "execution_count": 51,
     "metadata": {},
     "output_type": "execute_result"
    }
   ],
   "source": [
    "# query that fetches the unique values of DEPARTMENT from Worker table and prints its length.\n",
    "# SELECT DISTINCT(DEPARTMENT),LENGTH(DEPARTMENT) FROM WORKER;\n",
    "# df_uniq_dept = df[\"DEPARTMENT\"].unique()\n",
    "# df_uniq_dept_len = pd.DataFrame({\"DEPARTMENT\":df_uniq_dept,\"length\":[len(dept) for dept in df_uniq_dept]})\n",
    "# print(df_uniq_dept_leN)\n",
    "\n",
    "dept_lengths = df.groupby(\"DEPARTMENT\", as_index=False).first() \n",
    "dept_lengths[\"LENGTH\"] = df[\"DEPARTMENT\"].apply(len)\n",
    "dept_lengths = dept_lengths[[\"DEPARTMENT\", \"LENGTH\"]]\n",
    "\n",
    "dept_lengths.head()"
   ]
  },
  {
   "cell_type": "code",
   "execution_count": 57,
   "id": "aa3098aa-a65f-46d2-8f96-2fc220583eb2",
   "metadata": {
    "scrolled": true
   },
   "outputs": [
    {
     "data": {
      "text/plain": [
       "0      MonikA\n",
       "1    NihArikA\n",
       "2      VishAl\n",
       "3     AmitAbh\n",
       "4       Vivek\n",
       "5       Vipul\n",
       "6      SAtish\n",
       "7     GeetikA\n",
       "Name: New_name, dtype: object"
      ]
     },
     "execution_count": 57,
     "metadata": {},
     "output_type": "execute_result"
    }
   ],
   "source": [
    "# Write an SQL query to print the FIRST_NAME from Worker table after replacing ‘a’ with ‘A’.\n",
    "# SELECT REPLACE(FIRST_NAME,'a','A') as new_name from worker;\n",
    "df[\"New_name\"] = df[\"FIRST_NAME\"].str.replace('a','A')\n",
    "df[\"New_name\"]"
   ]
  },
  {
   "cell_type": "code",
   "execution_count": null,
   "id": "571fe675-36ce-42ed-aff8-9ef832bfa93b",
   "metadata": {},
   "outputs": [],
   "source": [
    "# query to print the FIRST_NAME and LAST_NAME from Worker table into a single column COMPLETE_NAME.\n",
    "# -- A space char should separate them.\n",
    "# SELECT CONCAT(FIRST_NAME,\" \",LAST_NAME) AS COMPLETE_NAME FROM WORKER;\n",
    "\n",
    "# Method 1: Using str.cat() (Preferred)\n",
    "df[\"COMPLETE_NAME\"] = df[\"FIRST_NAME\"].str.cat(df[\"LAST_NAME\"], sep=\" \")\n",
    "\n",
    "# Method 2: Using string concatenation\n",
    "# df[\"COMPLETE_NAME\"] = df[\"FIRST_NAME\"] + \" \" + df[\"LAST_NAME\"]"
   ]
  }
 ],
 "metadata": {
  "kernelspec": {
   "display_name": "Python 3 (ipykernel)",
   "language": "python",
   "name": "python3"
  },
  "language_info": {
   "codemirror_mode": {
    "name": "ipython",
    "version": 3
   },
   "file_extension": ".py",
   "mimetype": "text/x-python",
   "name": "python",
   "nbconvert_exporter": "python",
   "pygments_lexer": "ipython3",
   "version": "3.11.7"
  }
 },
 "nbformat": 4,
 "nbformat_minor": 5
}
