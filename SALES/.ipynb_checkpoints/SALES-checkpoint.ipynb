{
 "cells": [
  {
   "cell_type": "code",
   "execution_count": 82,
   "id": "2999efbb-fdb0-498a-95bf-1a70d7bb9d86",
   "metadata": {},
   "outputs": [],
   "source": [
    "import pandas as pd\n",
    "import numpy as np\n",
    "import matplotlib.pyplot as plt\n",
    "import seaborn as sns"
   ]
  },
  {
   "cell_type": "markdown",
   "id": "ef311323-93c5-48da-8bfc-1cc763bd72a1",
   "metadata": {},
   "source": [
    "### 1. find the third highest salary."
   ]
  },
  {
   "cell_type": "code",
   "execution_count": 112,
   "id": "d9989c7c-4ed2-444e-a7b2-ef464777609a",
   "metadata": {},
   "outputs": [
    {
     "data": {
      "text/plain": [
       "EMP_ID              E428\n",
       "FIRST_NAME          Pete\n",
       "LAST_NAME          Allen\n",
       "GENDER                 M\n",
       "ROLE             MANAGER\n",
       "DEPT          AUTOMOTIVE\n",
       "EXP                   14\n",
       "COUNTRY          GERMANY\n",
       "CONTINENT         EUROPE\n",
       "SALARY             11000\n",
       "EMP_RATING             4\n",
       "MANAGER ID          E002\n",
       "Name: 17, dtype: object"
      ]
     },
     "execution_count": 112,
     "metadata": {},
     "output_type": "execute_result"
    }
   ],
   "source": [
    "df_emp = pd.read_csv(\"EMPLOYEE_DB.csv\")\n",
    "df_emp.head()\n",
    "third_highest = df_emp.nlargest(3,'SALARY').iloc[[-1]]\n",
    "third_highest\n",
    "\n",
    "third_highest = df_emp.sort_values(by='SALARY',ascending = False).iloc[2]\n",
    "third_highest"
   ]
  }
 ],
 "metadata": {
  "kernelspec": {
   "display_name": "Python 3 (ipykernel)",
   "language": "python",
   "name": "python3"
  },
  "language_info": {
   "codemirror_mode": {
    "name": "ipython",
    "version": 3
   },
   "file_extension": ".py",
   "mimetype": "text/x-python",
   "name": "python",
   "nbconvert_exporter": "python",
   "pygments_lexer": "ipython3",
   "version": "3.11.7"
  }
 },
 "nbformat": 4,
 "nbformat_minor": 5
}
