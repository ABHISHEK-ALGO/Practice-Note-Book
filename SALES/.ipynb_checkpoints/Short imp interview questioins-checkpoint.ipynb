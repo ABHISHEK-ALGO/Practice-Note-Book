{
 "cells": [
  {
   "cell_type": "code",
   "execution_count": 2,
   "id": "f68306df-44d0-4d41-b1f3-78dc0c59bc58",
   "metadata": {},
   "outputs": [],
   "source": [
    "import pandas as pd\n",
    "import numpy as np\n",
    "import matplotlib.pyplot as plt\n",
    "import seaborn as sns"
   ]
  },
  {
   "cell_type": "code",
   "execution_count": 20,
   "id": "4145dd03-4665-4c19-9b84-789770a04404",
   "metadata": {},
   "outputs": [],
   "source": [
    "cu = pd.read_csv(\"Customers.csv\",sep = \";\")\n",
    "ord = pd.read_csv(\"orders.csv\",sep = \";\")\n",
    "pro = pd.read_csv(\"products.csv\",sep = \";\")"
   ]
  },
  {
   "cell_type": "code",
   "execution_count": 28,
   "id": "df39ed8a-658d-4db8-bc69-a2350fbcbdf3",
   "metadata": {
    "scrolled": true
   },
   "outputs": [
    {
     "data": {
      "text/html": [
       "<div>\n",
       "<style scoped>\n",
       "    .dataframe tbody tr th:only-of-type {\n",
       "        vertical-align: middle;\n",
       "    }\n",
       "\n",
       "    .dataframe tbody tr th {\n",
       "        vertical-align: top;\n",
       "    }\n",
       "\n",
       "    .dataframe thead th {\n",
       "        text-align: right;\n",
       "    }\n",
       "</style>\n",
       "<table border=\"1\" class=\"dataframe\">\n",
       "  <thead>\n",
       "    <tr style=\"text-align: right;\">\n",
       "      <th></th>\n",
       "      <th>Customer_ID</th>\n",
       "      <th>Customer_Name</th>\n",
       "      <th>Last_Name</th>\n",
       "      <th>Postal_Code</th>\n",
       "      <th>City</th>\n",
       "      <th>Country</th>\n",
       "      <th>Score</th>\n",
       "    </tr>\n",
       "  </thead>\n",
       "  <tbody>\n",
       "    <tr>\n",
       "      <th>0</th>\n",
       "      <td>1</td>\n",
       "      <td>Bill</td>\n",
       "      <td>Van Buren</td>\n",
       "      <td>78000</td>\n",
       "      <td>Versailles</td>\n",
       "      <td>France</td>\n",
       "      <td>76</td>\n",
       "    </tr>\n",
       "    <tr>\n",
       "      <th>1</th>\n",
       "      <td>2</td>\n",
       "      <td>Gerald</td>\n",
       "      <td>Jackson</td>\n",
       "      <td>60528</td>\n",
       "      <td>Frankfurt a.M.</td>\n",
       "      <td>Germany</td>\n",
       "      <td>74</td>\n",
       "    </tr>\n",
       "  </tbody>\n",
       "</table>\n",
       "</div>"
      ],
      "text/plain": [
       "   Customer_ID Customer_Name  Last_Name  Postal_Code            City  Country  \\\n",
       "0            1          Bill  Van Buren        78000      Versailles   France   \n",
       "1            2        Gerald    Jackson        60528  Frankfurt a.M.  Germany   \n",
       "\n",
       "   Score  \n",
       "0     76  \n",
       "1     74  "
      ]
     },
     "execution_count": 28,
     "metadata": {},
     "output_type": "execute_result"
    }
   ],
   "source": [
    "# change first name as customer name\n",
    "cu = cu.rename(columns={\"First_Name\":\"Customer_Name\"})\n",
    "cu.head(2)"
   ]
  },
  {
   "cell_type": "code",
   "execution_count": 32,
   "id": "3a7b7c04-46c2-48b5-8534-42eb86158b81",
   "metadata": {
    "scrolled": true
   },
   "outputs": [
    {
     "data": {
      "text/html": [
       "<div>\n",
       "<style scoped>\n",
       "    .dataframe tbody tr th:only-of-type {\n",
       "        vertical-align: middle;\n",
       "    }\n",
       "\n",
       "    .dataframe tbody tr th {\n",
       "        vertical-align: top;\n",
       "    }\n",
       "\n",
       "    .dataframe thead th {\n",
       "        text-align: right;\n",
       "    }\n",
       "</style>\n",
       "<table border=\"1\" class=\"dataframe\">\n",
       "  <thead>\n",
       "    <tr style=\"text-align: right;\">\n",
       "      <th></th>\n",
       "      <th>Customer_ID</th>\n",
       "      <th>Customer_Name</th>\n",
       "      <th>Last_Name</th>\n",
       "      <th>Postal_Code</th>\n",
       "      <th>City</th>\n",
       "      <th>Country</th>\n",
       "      <th>Score</th>\n",
       "    </tr>\n",
       "  </thead>\n",
       "  <tbody>\n",
       "    <tr>\n",
       "      <th>0</th>\n",
       "      <td>1</td>\n",
       "      <td>BILL</td>\n",
       "      <td>Van Buren</td>\n",
       "      <td>78000</td>\n",
       "      <td>Versailles</td>\n",
       "      <td>France</td>\n",
       "      <td>76</td>\n",
       "    </tr>\n",
       "    <tr>\n",
       "      <th>1</th>\n",
       "      <td>2</td>\n",
       "      <td>GERALD</td>\n",
       "      <td>Jackson</td>\n",
       "      <td>60528</td>\n",
       "      <td>Frankfurt a.M.</td>\n",
       "      <td>Germany</td>\n",
       "      <td>74</td>\n",
       "    </tr>\n",
       "  </tbody>\n",
       "</table>\n",
       "</div>"
      ],
      "text/plain": [
       "   Customer_ID Customer_Name  Last_Name  Postal_Code            City  Country  \\\n",
       "0            1          BILL  Van Buren        78000      Versailles   France   \n",
       "1            2        GERALD    Jackson        60528  Frankfurt a.M.  Germany   \n",
       "\n",
       "   Score  \n",
       "0     76  \n",
       "1     74  "
      ]
     },
     "execution_count": 32,
     "metadata": {},
     "output_type": "execute_result"
    }
   ],
   "source": [
    "# CONVERTNG TO UPPER\n",
    "cu['Customer_Name'] =  cu['Customer_Name'].str.upper()\n",
    "cu.head(2)"
   ]
  },
  {
   "cell_type": "code",
   "execution_count": 38,
   "id": "4548a771-e35a-4194-afed-17e20d7e9c9d",
   "metadata": {},
   "outputs": [
    {
     "data": {
      "text/plain": [
       "array(['BILL', 'GERALD', 'HARRY', 'DWIGHT', 'RUTHERFORD', 'GROVER',\n",
       "       'CALVIN', 'ULYSSES', 'JIMMY', 'JAMES', 'RONALD', 'MARTIN', 'JOHN',\n",
       "       'FRANKLIN', 'BENJAMIN', 'CHESTER', 'WARREN', 'MILLARD', 'HERBERT',\n",
       "       'WOODROW', 'ANDREW', 'RICHARD', 'ZACHARY', 'THOMAS', 'WILLIAM',\n",
       "       'ABRAHAM', 'GEORGE', 'THEODORE', 'LYNDON'], dtype=object)"
      ]
     },
     "execution_count": 38,
     "metadata": {},
     "output_type": "execute_result"
    }
   ],
   "source": [
    "# UNIQ CUSTOMERS\n",
    "uniq = cu['Customer_Name'].unique()\n",
    "uniq"
   ]
  },
  {
   "cell_type": "code",
   "execution_count": 44,
   "id": "2b422e85-3a21-4a52-bee7-959f28f27adc",
   "metadata": {},
   "outputs": [],
   "source": [
    "# FIRST 3 CHAR similary other charactier s can be extracted\n",
    "cu['first_3'] = cu['Customer_Name'].str[:3]"
   ]
  },
  {
   "cell_type": "code",
   "execution_count": null,
   "id": "7f07942d-9696-4f2d-81a6-d5626f688c33",
   "metadata": {},
   "outputs": [],
   "source": [
    "# trim in \n",
    "df['RTRIM_NAMe'] = df['Customer_Name'].str.rstrip()\n",
    "df['lTRIM_NAMe'] = df['Customer_Name'].str.lstrip()\n",
    "df['lTRIM_NAMe'] = df['Customer_Name'].str.strip()"
   ]
  },
  {
   "cell_type": "code",
   "execution_count": null,
   "id": "205754cb-de2c-40e2-a972-2fed493b449e",
   "metadata": {},
   "outputs": [],
   "source": [
    "# removing spaces in between\n",
    "df['NO_SPACES'] = df['FULL_NAME'].str.replace(\" \", \"\", regex=False)"
   ]
  },
  {
   "cell_type": "code",
   "execution_count": 54,
   "id": "997286b8-30d6-41e9-97e7-acd95d32a1a6",
   "metadata": {
    "scrolled": true
   },
   "outputs": [
    {
     "data": {
      "text/html": [
       "<div>\n",
       "<style scoped>\n",
       "    .dataframe tbody tr th:only-of-type {\n",
       "        vertical-align: middle;\n",
       "    }\n",
       "\n",
       "    .dataframe tbody tr th {\n",
       "        vertical-align: top;\n",
       "    }\n",
       "\n",
       "    .dataframe thead th {\n",
       "        text-align: right;\n",
       "    }\n",
       "</style>\n",
       "<table border=\"1\" class=\"dataframe\">\n",
       "  <thead>\n",
       "    <tr style=\"text-align: right;\">\n",
       "      <th></th>\n",
       "      <th>Customer_ID</th>\n",
       "      <th>Customer_Name</th>\n",
       "      <th>Last_Name</th>\n",
       "      <th>Postal_Code</th>\n",
       "      <th>City</th>\n",
       "      <th>Country</th>\n",
       "      <th>Score</th>\n",
       "      <th>first_3</th>\n",
       "      <th>find r</th>\n",
       "      <th>find R</th>\n",
       "    </tr>\n",
       "  </thead>\n",
       "  <tbody>\n",
       "    <tr>\n",
       "      <th>0</th>\n",
       "      <td>1</td>\n",
       "      <td>BILL</td>\n",
       "      <td>Van Buren</td>\n",
       "      <td>78000</td>\n",
       "      <td>Versailles</td>\n",
       "      <td>France</td>\n",
       "      <td>76</td>\n",
       "      <td>BIL</td>\n",
       "      <td>-1</td>\n",
       "      <td>0</td>\n",
       "    </tr>\n",
       "    <tr>\n",
       "      <th>1</th>\n",
       "      <td>2</td>\n",
       "      <td>GERALD</td>\n",
       "      <td>Jackson</td>\n",
       "      <td>60528</td>\n",
       "      <td>Frankfurt a.M.</td>\n",
       "      <td>Germany</td>\n",
       "      <td>74</td>\n",
       "      <td>GER</td>\n",
       "      <td>-1</td>\n",
       "      <td>3</td>\n",
       "    </tr>\n",
       "    <tr>\n",
       "      <th>2</th>\n",
       "      <td>3</td>\n",
       "      <td>HARRY</td>\n",
       "      <td>Nixon</td>\n",
       "      <td>75016</td>\n",
       "      <td>Paris</td>\n",
       "      <td>France</td>\n",
       "      <td>3</td>\n",
       "      <td>HAR</td>\n",
       "      <td>-1</td>\n",
       "      <td>3</td>\n",
       "    </tr>\n",
       "    <tr>\n",
       "      <th>3</th>\n",
       "      <td>4</td>\n",
       "      <td>DWIGHT</td>\n",
       "      <td>Coolidge</td>\n",
       "      <td>97219</td>\n",
       "      <td>Portland</td>\n",
       "      <td>USA</td>\n",
       "      <td>25</td>\n",
       "      <td>DWI</td>\n",
       "      <td>-1</td>\n",
       "      <td>0</td>\n",
       "    </tr>\n",
       "    <tr>\n",
       "      <th>4</th>\n",
       "      <td>5</td>\n",
       "      <td>RUTHERFORD</td>\n",
       "      <td>Roosevelt</td>\n",
       "      <td>4179</td>\n",
       "      <td>Leipzig</td>\n",
       "      <td>Germany</td>\n",
       "      <td>87</td>\n",
       "      <td>RUT</td>\n",
       "      <td>-1</td>\n",
       "      <td>1</td>\n",
       "    </tr>\n",
       "  </tbody>\n",
       "</table>\n",
       "</div>"
      ],
      "text/plain": [
       "   Customer_ID Customer_Name  Last_Name  Postal_Code            City  Country  \\\n",
       "0            1          BILL  Van Buren        78000      Versailles   France   \n",
       "1            2        GERALD    Jackson        60528  Frankfurt a.M.  Germany   \n",
       "2            3         HARRY      Nixon        75016           Paris   France   \n",
       "3            4        DWIGHT   Coolidge        97219        Portland      USA   \n",
       "4            5    RUTHERFORD  Roosevelt         4179         Leipzig  Germany   \n",
       "\n",
       "   Score first_3  find r  find R  \n",
       "0     76     BIL      -1       0  \n",
       "1     74     GER      -1       3  \n",
       "2      3     HAR      -1       3  \n",
       "3     25     DWI      -1       0  \n",
       "4     87     RUT      -1       1  "
      ]
     },
     "execution_count": 54,
     "metadata": {},
     "output_type": "execute_result"
    }
   ],
   "source": [
    "# find character\n",
    "cu[\"find R\"] = cu[\"Customer_Name\"].str.find('R')+1 # since zero based indexing\n",
    "cu.head()"
   ]
  },
  {
   "cell_type": "code",
   "execution_count": 86,
   "id": "57c1ac49-af55-4480-a12b-e07ee63b983d",
   "metadata": {
    "scrolled": true
   },
   "outputs": [
    {
     "data": {
      "text/html": [
       "<div>\n",
       "<style scoped>\n",
       "    .dataframe tbody tr th:only-of-type {\n",
       "        vertical-align: middle;\n",
       "    }\n",
       "\n",
       "    .dataframe tbody tr th {\n",
       "        vertical-align: top;\n",
       "    }\n",
       "\n",
       "    .dataframe thead th {\n",
       "        text-align: right;\n",
       "    }\n",
       "</style>\n",
       "<table border=\"1\" class=\"dataframe\">\n",
       "  <thead>\n",
       "    <tr style=\"text-align: right;\">\n",
       "      <th></th>\n",
       "      <th>City</th>\n",
       "    </tr>\n",
       "  </thead>\n",
       "  <tbody>\n",
       "    <tr>\n",
       "      <th>1</th>\n",
       "      <td>Frankfurt a.M.</td>\n",
       "    </tr>\n",
       "    <tr>\n",
       "      <th>28</th>\n",
       "      <td>Reggio Emilia</td>\n",
       "    </tr>\n",
       "    <tr>\n",
       "      <th>18</th>\n",
       "      <td>San Francisco</td>\n",
       "    </tr>\n",
       "    <tr>\n",
       "      <th>24</th>\n",
       "      <td>Brandenburg</td>\n",
       "    </tr>\n",
       "    <tr>\n",
       "      <th>19</th>\n",
       "      <td>Albuquerque</td>\n",
       "    </tr>\n",
       "  </tbody>\n",
       "</table>\n",
       "</div>"
      ],
      "text/plain": [
       "              City\n",
       "1   Frankfurt a.M.\n",
       "28   Reggio Emilia\n",
       "18   San Francisco\n",
       "24     Brandenburg\n",
       "19     Albuquerque"
      ]
     },
     "execution_count": 86,
     "metadata": {},
     "output_type": "execute_result"
    }
   ],
   "source": [
    "# distinct withcu length Because .drop_duplicates() behaves differently depending on the type:\n",
    "#If you use a Series, it'll drop duplicate values in that Series only.\n",
    "#If you use a DataFrame, you can preserve the full 2D structure, which is useful when selecting multiple columns (even if it's just one now).\n",
    "\n",
    "cu_dist = cu[[\"City\"]].drop_duplicates()\n",
    "cu_dist[\"count\"] = cu_dist[\"City\"].str.len()\n",
    "cu_dist[:]\n",
    "cu_dist_order = cu_dist.sort_values(by='count', ascending=False)\n",
    "cu_dist_order.iloc[:5,:1]"
   ]
  },
  {
   "cell_type": "code",
   "execution_count": 92,
   "id": "405593c3-1e98-43fc-9ca6-1c3f2cdea155",
   "metadata": {},
   "outputs": [],
   "source": [
    "cu['COMPLETE_NAME'] = cu['Customer_Name'] + \" \" + cu['Last_Name']"
   ]
  },
  {
   "cell_type": "code",
   "execution_count": 104,
   "id": "5dc8bbb1-a8c1-4fb8-8538-b1a1f175db5d",
   "metadata": {},
   "outputs": [],
   "source": [
    "# ISIN \n",
    "fil_cu = cu[cu['Customer_Name'].isin(['BILL','HARRY'])]\n",
    "# not in\n",
    "fil_cu_no = cu[~cu['Customer_Name'].isin(['BILL','HARRY'])]"
   ]
  }
 ],
 "metadata": {
  "kernelspec": {
   "display_name": "Python 3 (ipykernel)",
   "language": "python",
   "name": "python3"
  },
  "language_info": {
   "codemirror_mode": {
    "name": "ipython",
    "version": 3
   },
   "file_extension": ".py",
   "mimetype": "text/x-python",
   "name": "python",
   "nbconvert_exporter": "python",
   "pygments_lexer": "ipython3",
   "version": "3.11.7"
  }
 },
 "nbformat": 4,
 "nbformat_minor": 5
}
