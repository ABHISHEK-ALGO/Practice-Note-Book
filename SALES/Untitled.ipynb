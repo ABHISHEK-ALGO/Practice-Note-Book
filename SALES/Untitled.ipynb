{
 "cells": [
  {
   "cell_type": "code",
   "execution_count": 15,
   "id": "52d694bc-5bca-4950-be89-d62e06740ec6",
   "metadata": {},
   "outputs": [],
   "source": [
    "from datetime import datetime,timedelta"
   ]
  },
  {
   "cell_type": "code",
   "execution_count": 5,
   "id": "932726a4-7462-4aab-b431-a6c7ba626ed2",
   "metadata": {},
   "outputs": [
    {
     "name": "stdout",
     "output_type": "stream",
     "text": [
      "2025\n"
     ]
    }
   ],
   "source": [
    "current_year = datetime.now().year\n",
    "print(current_year)"
   ]
  },
  {
   "cell_type": "code",
   "execution_count": 9,
   "id": "7dcbc4ac-6dab-4581-bb70-d3bf21ba977e",
   "metadata": {},
   "outputs": [
    {
     "name": "stdout",
     "output_type": "stream",
     "text": [
      "2025-04-23 16:47:53.802373\n"
     ]
    }
   ],
   "source": [
    "current_year = datetime.now()\n",
    "print(current_year)"
   ]
  },
  {
   "cell_type": "code",
   "execution_count": 11,
   "id": "5a43b434-3d38-42ae-a014-e60d004ddaa9",
   "metadata": {},
   "outputs": [
    {
     "name": "stdout",
     "output_type": "stream",
     "text": [
      "Days Difference: 31\n"
     ]
    }
   ],
   "source": [
    "# Calculate the number of days between two dates\n",
    "start_date = datetime(2024, 1, 1)\n",
    "end_date = datetime(2024, 2, 1)\n",
    "days_difference = (end_date - start_date).days\n",
    "print(\"Days Difference:\", days_difference)"
   ]
  },
  {
   "cell_type": "code",
   "execution_count": 13,
   "id": "5047effc-b8f7-492e-99f8-eae8f40e8b1f",
   "metadata": {},
   "outputs": [
    {
     "name": "stdout",
     "output_type": "stream",
     "text": [
      "1\n"
     ]
    }
   ],
   "source": [
    "start_date = datetime.strptime('2024-01-22', '%Y-%m-%d')#It's a method from Python's datetime class used to convert a date/time string into a datetime object.\n",
    "end_date = datetime.strptime('2024-03-01', '%Y-%m-%d')\n",
    "\n",
    "months_difference = (end_date.year - start_date.year) * 12 + (end_date.month - start_date.month)\n",
    "if end_date.day < start_date.day:\n",
    "    months_difference -= 1  # Not a complete month yet\n",
    "\n",
    "print(months_difference) "
   ]
  },
  {
   "cell_type": "code",
   "execution_count": 17,
   "id": "19b26267-752d-4d27-bb07-755bef470219",
   "metadata": {},
   "outputs": [
    {
     "name": "stdout",
     "output_type": "stream",
     "text": [
      "2020-02-18\n"
     ]
    }
   ],
   "source": [
    "# sub interval from given date\n",
    "original_date = datetime.strptime('2020-02-25', '%Y-%m-%d')\n",
    "res_date = original_date - timedelta(days=7)\n",
    "\n",
    "print(res_date.strftime('%Y-%m-%d'))  # Output: 2020-02-18\n"
   ]
  },
  {
   "cell_type": "code",
   "execution_count": 19,
   "id": "5d563538-bd82-459a-afd1-7f9761caeb03",
   "metadata": {},
   "outputs": [
    {
     "name": "stdout",
     "output_type": "stream",
     "text": [
      "2024-04-01\n"
     ]
    }
   ],
   "source": [
    "# adding intervel in given date\n",
    "start_date = datetime.strptime('2024-03-01', '%Y-%m-%d')\n",
    "end_date = datetime.strptime('2024-04-01', '%Y-%m-%d')\n",
    "\n",
    "# Calculate the difference in days\n",
    "days_difference = (end_date - start_date).days\n",
    "\n",
    "# Add that difference to the start date\n",
    "new_date = start_date + timedelta(days=days_difference)\n",
    "\n",
    "# Print the result\n",
    "print(new_date.strftime('%Y-%m-%d'))  # Output: 2024-04-01\n"
   ]
  },
  {
   "cell_type": "code",
   "execution_count": 23,
   "id": "87a4ce4a-141a-42fd-9f30-fef9b88602d6",
   "metadata": {},
   "outputs": [
    {
     "name": "stdout",
     "output_type": "stream",
     "text": [
      "2020-02-25 16:50:00\n"
     ]
    }
   ],
   "source": [
    "#Use datetime.strptime() to parse this into a datetime object:%I in Python = 12-hour clock (like %h in SQL)%M = minutes %p = AM/PM\n",
    "\n",
    "#The parsed object is in 24-hour format internally, so 04:50 PM becomes 16:50:00.\n",
    "\n",
    "from datetime import datetime\n",
    "\n",
    "date_str = \"feb 25 2020 04:50 PM\"\n",
    "parsed_date = datetime.strptime(date_str, \"%b %d %Y %I:%M %p\")\n",
    "\n",
    "print(parsed_date)  # Output: 2020-02-25 16:50:00\n"
   ]
  },
  {
   "cell_type": "code",
   "execution_count": 25,
   "id": "81a101d1-fcdf-4a19-ba80-66123c6cfce1",
   "metadata": {},
   "outputs": [
    {
     "ename": "SyntaxError",
     "evalue": "invalid syntax (3431112847.py, line 8)",
     "output_type": "error",
     "traceback": [
      "\u001b[1;36m  Cell \u001b[1;32mIn[25], line 8\u001b[1;36m\u001b[0m\n\u001b[1;33m    Note:\u001b[0m\n\u001b[1;37m         ^\u001b[0m\n\u001b[1;31mSyntaxError\u001b[0m\u001b[1;31m:\u001b[0m invalid syntax\n"
     ]
    }
   ],
   "source": [
    "#Use Python’s strftime method from the datetime module:\n",
    "from datetime import datetime\n",
    "\n",
    "date = datetime.strptime(\"2020-02-25\", \"%Y-%m-%d\")\n",
    "'''strptime() → “string parse time”\n",
    "Used to convert a date/time string into a datetime object, using a matching format.'''\n",
    "\n",
    "formatted = date.strftime(\" %d %b %Y %A %w\")\n",
    "print(formatted) \n",
    "# Output: \" 25 Feb 2020 Tuesday 2\"\n",
    "#strftime() → “string format time”\n",
    "'''Used to convert a datetime object into a formatted string.\n",
    "You choose the format using codes like %Y, %d, %H, etc.'''\n",
    "Note:\n",
    "# %A in Python = full weekday name (like %W in MySQL)\n",
    "\n",
    "# %w works the same in both: Sunday = 0, Saturday = 6"
   ]
  }
 ],
 "metadata": {
  "kernelspec": {
   "display_name": "Python 3 (ipykernel)",
   "language": "python",
   "name": "python3"
  },
  "language_info": {
   "codemirror_mode": {
    "name": "ipython",
    "version": 3
   },
   "file_extension": ".py",
   "mimetype": "text/x-python",
   "name": "python",
   "nbconvert_exporter": "python",
   "pygments_lexer": "ipython3",
   "version": "3.11.7"
  }
 },
 "nbformat": 4,
 "nbformat_minor": 5
}
