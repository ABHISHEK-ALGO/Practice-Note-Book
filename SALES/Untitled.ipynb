{
 "cells": [
  {
   "cell_type": "code",
   "execution_count": 1,
   "id": "2182a723-a011-43b7-a8db-d5bec72f6817",
   "metadata": {},
   "outputs": [],
   "source": [
    "import pandas as pd\n",
    "import numpy as np\n",
    "import matplotlib.pyplot as plt\n",
    "import seaborn as sns"
   ]
  },
  {
   "cell_type": "code",
   "execution_count": 9,
   "id": "dd4c2114-6d80-4589-8a3e-2932ac74faea",
   "metadata": {},
   "outputs": [],
   "source": [
    "df_sale = pd.read_csv(\"sales_datasets.csv\")\n",
    "df_sale.head()\n",
    "df_cus = pd.read_csv(\"customer_datasets.csv\")\n",
    "df_pro = pd.read_csv(\"product_datasets.csv\")"
   ]
  }
 ],
 "metadata": {
  "kernelspec": {
   "display_name": "Python 3 (ipykernel)",
   "language": "python",
   "name": "python3"
  },
  "language_info": {
   "codemirror_mode": {
    "name": "ipython",
    "version": 3
   },
   "file_extension": ".py",
   "mimetype": "text/x-python",
   "name": "python",
   "nbconvert_exporter": "python",
   "pygments_lexer": "ipython3",
   "version": "3.11.7"
  }
 },
 "nbformat": 4,
 "nbformat_minor": 5
}
