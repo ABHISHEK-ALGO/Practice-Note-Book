{
 "cells": [
  {
   "cell_type": "code",
   "execution_count": 2,
   "id": "f68306df-44d0-4d41-b1f3-78dc0c59bc58",
   "metadata": {},
   "outputs": [],
   "source": [
    "import pandas as pd\n",
    "import numpy as np\n",
    "import matplotlib.pyplot as plt\n",
    "import seaborn as sns"
   ]
  },
  {
   "cell_type": "code",
   "execution_count": 3,
   "id": "4145dd03-4665-4c19-9b84-789770a04404",
   "metadata": {},
   "outputs": [],
   "source": [
    "cu = pd.read_csv(\"Customers.csv\",sep = \";\")\n",
    "ord = pd.read_csv(\"orders.csv\",sep = \";\")\n",
    "pro = pd.read_csv(\"products.csv\",sep = \";\")"
   ]
  },
  {
   "cell_type": "code",
   "execution_count": 4,
   "id": "df39ed8a-658d-4db8-bc69-a2350fbcbdf3",
   "metadata": {
    "scrolled": true
   },
   "outputs": [
    {
     "data": {
      "text/html": [
       "<div>\n",
       "<style scoped>\n",
       "    .dataframe tbody tr th:only-of-type {\n",
       "        vertical-align: middle;\n",
       "    }\n",
       "\n",
       "    .dataframe tbody tr th {\n",
       "        vertical-align: top;\n",
       "    }\n",
       "\n",
       "    .dataframe thead th {\n",
       "        text-align: right;\n",
       "    }\n",
       "</style>\n",
       "<table border=\"1\" class=\"dataframe\">\n",
       "  <thead>\n",
       "    <tr style=\"text-align: right;\">\n",
       "      <th></th>\n",
       "      <th>Customer_ID</th>\n",
       "      <th>Customer_Name</th>\n",
       "      <th>Last_Name</th>\n",
       "      <th>Postal_Code</th>\n",
       "      <th>City</th>\n",
       "      <th>Country</th>\n",
       "      <th>Score</th>\n",
       "    </tr>\n",
       "  </thead>\n",
       "  <tbody>\n",
       "    <tr>\n",
       "      <th>0</th>\n",
       "      <td>1</td>\n",
       "      <td>Bill</td>\n",
       "      <td>Van Buren</td>\n",
       "      <td>78000</td>\n",
       "      <td>Versailles</td>\n",
       "      <td>France</td>\n",
       "      <td>76</td>\n",
       "    </tr>\n",
       "    <tr>\n",
       "      <th>1</th>\n",
       "      <td>2</td>\n",
       "      <td>Gerald</td>\n",
       "      <td>Jackson</td>\n",
       "      <td>60528</td>\n",
       "      <td>Frankfurt a.M.</td>\n",
       "      <td>Germany</td>\n",
       "      <td>74</td>\n",
       "    </tr>\n",
       "  </tbody>\n",
       "</table>\n",
       "</div>"
      ],
      "text/plain": [
       "   Customer_ID Customer_Name  Last_Name  Postal_Code            City  Country  \\\n",
       "0            1          Bill  Van Buren        78000      Versailles   France   \n",
       "1            2        Gerald    Jackson        60528  Frankfurt a.M.  Germany   \n",
       "\n",
       "   Score  \n",
       "0     76  \n",
       "1     74  "
      ]
     },
     "execution_count": 4,
     "metadata": {},
     "output_type": "execute_result"
    }
   ],
   "source": [
    "# change first name as customer name\n",
    "cu = cu.rename(columns={\"First_Name\":\"Customer_Name\"})\n",
    "cu.head(2)"
   ]
  },
  {
   "cell_type": "code",
   "execution_count": 5,
   "id": "3a7b7c04-46c2-48b5-8534-42eb86158b81",
   "metadata": {
    "scrolled": true
   },
   "outputs": [
    {
     "data": {
      "text/html": [
       "<div>\n",
       "<style scoped>\n",
       "    .dataframe tbody tr th:only-of-type {\n",
       "        vertical-align: middle;\n",
       "    }\n",
       "\n",
       "    .dataframe tbody tr th {\n",
       "        vertical-align: top;\n",
       "    }\n",
       "\n",
       "    .dataframe thead th {\n",
       "        text-align: right;\n",
       "    }\n",
       "</style>\n",
       "<table border=\"1\" class=\"dataframe\">\n",
       "  <thead>\n",
       "    <tr style=\"text-align: right;\">\n",
       "      <th></th>\n",
       "      <th>Customer_ID</th>\n",
       "      <th>Customer_Name</th>\n",
       "      <th>Last_Name</th>\n",
       "      <th>Postal_Code</th>\n",
       "      <th>City</th>\n",
       "      <th>Country</th>\n",
       "      <th>Score</th>\n",
       "    </tr>\n",
       "  </thead>\n",
       "  <tbody>\n",
       "    <tr>\n",
       "      <th>0</th>\n",
       "      <td>1</td>\n",
       "      <td>BILL</td>\n",
       "      <td>Van Buren</td>\n",
       "      <td>78000</td>\n",
       "      <td>Versailles</td>\n",
       "      <td>France</td>\n",
       "      <td>76</td>\n",
       "    </tr>\n",
       "    <tr>\n",
       "      <th>1</th>\n",
       "      <td>2</td>\n",
       "      <td>GERALD</td>\n",
       "      <td>Jackson</td>\n",
       "      <td>60528</td>\n",
       "      <td>Frankfurt a.M.</td>\n",
       "      <td>Germany</td>\n",
       "      <td>74</td>\n",
       "    </tr>\n",
       "  </tbody>\n",
       "</table>\n",
       "</div>"
      ],
      "text/plain": [
       "   Customer_ID Customer_Name  Last_Name  Postal_Code            City  Country  \\\n",
       "0            1          BILL  Van Buren        78000      Versailles   France   \n",
       "1            2        GERALD    Jackson        60528  Frankfurt a.M.  Germany   \n",
       "\n",
       "   Score  \n",
       "0     76  \n",
       "1     74  "
      ]
     },
     "execution_count": 5,
     "metadata": {},
     "output_type": "execute_result"
    }
   ],
   "source": [
    "# CONVERTNG TO UPPER\n",
    "cu['Customer_Name'] =  cu['Customer_Name'].str.upper()\n",
    "cu.head(2)"
   ]
  },
  {
   "cell_type": "code",
   "execution_count": 6,
   "id": "4548a771-e35a-4194-afed-17e20d7e9c9d",
   "metadata": {},
   "outputs": [
    {
     "data": {
      "text/plain": [
       "array(['BILL', 'GERALD', 'HARRY', 'DWIGHT', 'RUTHERFORD', 'GROVER',\n",
       "       'CALVIN', 'ULYSSES', 'JIMMY', 'JAMES', 'RONALD', 'MARTIN', 'JOHN',\n",
       "       'FRANKLIN', 'BENJAMIN', 'CHESTER', 'WARREN', 'MILLARD', 'HERBERT',\n",
       "       'WOODROW', 'ANDREW', 'RICHARD', 'ZACHARY', 'THOMAS', 'WILLIAM',\n",
       "       'ABRAHAM', 'GEORGE', 'THEODORE', 'LYNDON'], dtype=object)"
      ]
     },
     "execution_count": 6,
     "metadata": {},
     "output_type": "execute_result"
    }
   ],
   "source": [
    "# UNIQ CUSTOMERS\n",
    "uniq = cu['Customer_Name'].unique()\n",
    "uniq"
   ]
  },
  {
   "cell_type": "code",
   "execution_count": 7,
   "id": "2b422e85-3a21-4a52-bee7-959f28f27adc",
   "metadata": {},
   "outputs": [],
   "source": [
    "# FIRST 3 CHAR similary other charactier s can be extracted\n",
    "cu['first_3'] = cu['Customer_Name'].str[:3]"
   ]
  },
  {
   "cell_type": "code",
   "execution_count": 8,
   "id": "7f07942d-9696-4f2d-81a6-d5626f688c33",
   "metadata": {},
   "outputs": [
    {
     "ename": "NameError",
     "evalue": "name 'df' is not defined",
     "output_type": "error",
     "traceback": [
      "\u001b[1;31m---------------------------------------------------------------------------\u001b[0m",
      "\u001b[1;31mNameError\u001b[0m                                 Traceback (most recent call last)",
      "Cell \u001b[1;32mIn[8], line 2\u001b[0m\n\u001b[0;32m      1\u001b[0m \u001b[38;5;66;03m# trim in \u001b[39;00m\n\u001b[1;32m----> 2\u001b[0m df[\u001b[38;5;124m'\u001b[39m\u001b[38;5;124mRTRIM_NAMe\u001b[39m\u001b[38;5;124m'\u001b[39m] \u001b[38;5;241m=\u001b[39m df[\u001b[38;5;124m'\u001b[39m\u001b[38;5;124mCustomer_Name\u001b[39m\u001b[38;5;124m'\u001b[39m]\u001b[38;5;241m.\u001b[39mstr\u001b[38;5;241m.\u001b[39mrstrip()\n\u001b[0;32m      3\u001b[0m df[\u001b[38;5;124m'\u001b[39m\u001b[38;5;124mlTRIM_NAMe\u001b[39m\u001b[38;5;124m'\u001b[39m] \u001b[38;5;241m=\u001b[39m df[\u001b[38;5;124m'\u001b[39m\u001b[38;5;124mCustomer_Name\u001b[39m\u001b[38;5;124m'\u001b[39m]\u001b[38;5;241m.\u001b[39mstr\u001b[38;5;241m.\u001b[39mlstrip()\n\u001b[0;32m      4\u001b[0m df[\u001b[38;5;124m'\u001b[39m\u001b[38;5;124mlTRIM_NAMe\u001b[39m\u001b[38;5;124m'\u001b[39m] \u001b[38;5;241m=\u001b[39m df[\u001b[38;5;124m'\u001b[39m\u001b[38;5;124mCustomer_Name\u001b[39m\u001b[38;5;124m'\u001b[39m]\u001b[38;5;241m.\u001b[39mstr\u001b[38;5;241m.\u001b[39mstrip()\n",
      "\u001b[1;31mNameError\u001b[0m: name 'df' is not defined"
     ]
    }
   ],
   "source": [
    "# trim in \n",
    "df['RTRIM_NAMe'] = df['Customer_Name'].str.rstrip()\n",
    "df['lTRIM_NAMe'] = df['Customer_Name'].str.lstrip()\n",
    "df['lTRIM_NAMe'] = df['Customer_Name'].str.strip()"
   ]
  },
  {
   "cell_type": "code",
   "execution_count": null,
   "id": "205754cb-de2c-40e2-a972-2fed493b449e",
   "metadata": {},
   "outputs": [],
   "source": [
    "# removing spaces in between\n",
    "df['NO_SPACES'] = df['FULL_NAME'].str.replace(\" \", \"\", regex=False)"
   ]
  },
  {
   "cell_type": "code",
   "execution_count": null,
   "id": "997286b8-30d6-41e9-97e7-acd95d32a1a6",
   "metadata": {
    "scrolled": true
   },
   "outputs": [],
   "source": [
    "# find character\n",
    "cu[\"find R\"] = cu[\"Customer_Name\"].str.find('R')+1 # since zero based indexing\n",
    "cu.head()"
   ]
  },
  {
   "cell_type": "code",
   "execution_count": null,
   "id": "57c1ac49-af55-4480-a12b-e07ee63b983d",
   "metadata": {
    "scrolled": true
   },
   "outputs": [],
   "source": [
    "# distinct withcu length Because .drop_duplicates() behaves differently depending on the type:\n",
    "#If you use a Series, it'll drop duplicate values in that Series only.\n",
    "#If you use a DataFrame, you can preserve the full 2D structure, which is useful when selecting multiple columns (even if it's just one now).\n",
    "\n",
    "cu_dist = cu[[\"City\"]].drop_duplicates()\n",
    "cu_dist[\"count\"] = cu_dist[\"City\"].str.len()\n",
    "cu_dist[:]\n",
    "cu_dist_order = cu_dist.sort_values(by='count', ascending=False)\n",
    "cu_dist_order.iloc[:5,:1]"
   ]
  },
  {
   "cell_type": "code",
   "execution_count": null,
   "id": "405593c3-1e98-43fc-9ca6-1c3f2cdea155",
   "metadata": {},
   "outputs": [],
   "source": [
    "cu['COMPLETE_NAME'] = cu['Customer_Name'] + \" \" + cu['Last_Name']"
   ]
  },
  {
   "cell_type": "code",
   "execution_count": null,
   "id": "5dc8bbb1-a8c1-4fb8-8538-b1a1f175db5d",
   "metadata": {},
   "outputs": [],
   "source": [
    "# ISIN \n",
    "fil_cu = cu[cu['Customer_Name'].isin(['BILL','HARRY'])]\n",
    "# not in\n",
    "fil_cu_no = cu[~cu['Customer_Name'].isin(['BILL','HARRY'])]"
   ]
  },
  {
   "cell_type": "code",
   "execution_count": 23,
   "id": "fa2415f9-9ecf-490a-9f99-a799edff3d99",
   "metadata": {},
   "outputs": [
    {
     "data": {
      "text/html": [
       "<div>\n",
       "<style scoped>\n",
       "    .dataframe tbody tr th:only-of-type {\n",
       "        vertical-align: middle;\n",
       "    }\n",
       "\n",
       "    .dataframe tbody tr th {\n",
       "        vertical-align: top;\n",
       "    }\n",
       "\n",
       "    .dataframe thead th {\n",
       "        text-align: right;\n",
       "    }\n",
       "</style>\n",
       "<table border=\"1\" class=\"dataframe\">\n",
       "  <thead>\n",
       "    <tr style=\"text-align: right;\">\n",
       "      <th></th>\n",
       "      <th>Customer_ID</th>\n",
       "      <th>Customer_Name</th>\n",
       "      <th>Last_Name</th>\n",
       "      <th>Postal_Code</th>\n",
       "      <th>City</th>\n",
       "      <th>Country</th>\n",
       "      <th>Score</th>\n",
       "      <th>first_3</th>\n",
       "    </tr>\n",
       "  </thead>\n",
       "  <tbody>\n",
       "    <tr>\n",
       "      <th>0</th>\n",
       "      <td>1</td>\n",
       "      <td>BILL</td>\n",
       "      <td>Van Buren</td>\n",
       "      <td>78000</td>\n",
       "      <td>Versailles</td>\n",
       "      <td>France</td>\n",
       "      <td>76</td>\n",
       "      <td>BIL</td>\n",
       "    </tr>\n",
       "    <tr>\n",
       "      <th>1</th>\n",
       "      <td>2</td>\n",
       "      <td>GERALD</td>\n",
       "      <td>Jackson</td>\n",
       "      <td>60528</td>\n",
       "      <td>Frankfurt a.M.</td>\n",
       "      <td>Germany</td>\n",
       "      <td>74</td>\n",
       "      <td>GER</td>\n",
       "    </tr>\n",
       "    <tr>\n",
       "      <th>5</th>\n",
       "      <td>6</td>\n",
       "      <td>GROVER</td>\n",
       "      <td>Grant</td>\n",
       "      <td>80805</td>\n",
       "      <td>München</td>\n",
       "      <td>Germany</td>\n",
       "      <td>65</td>\n",
       "      <td>GRO</td>\n",
       "    </tr>\n",
       "    <tr>\n",
       "      <th>10</th>\n",
       "      <td>11</td>\n",
       "      <td>ULYSSES</td>\n",
       "      <td>Harding</td>\n",
       "      <td>75016</td>\n",
       "      <td>Paris</td>\n",
       "      <td>France</td>\n",
       "      <td>50</td>\n",
       "      <td>ULY</td>\n",
       "    </tr>\n",
       "    <tr>\n",
       "      <th>11</th>\n",
       "      <td>12</td>\n",
       "      <td>RUTHERFORD</td>\n",
       "      <td>Garfield</td>\n",
       "      <td>70563</td>\n",
       "      <td>Stuttgart</td>\n",
       "      <td>Germany</td>\n",
       "      <td>79</td>\n",
       "      <td>RUT</td>\n",
       "    </tr>\n",
       "  </tbody>\n",
       "</table>\n",
       "</div>"
      ],
      "text/plain": [
       "    Customer_ID Customer_Name  Last_Name  Postal_Code            City  \\\n",
       "0             1          BILL  Van Buren        78000      Versailles   \n",
       "1             2        GERALD    Jackson        60528  Frankfurt a.M.   \n",
       "5             6        GROVER      Grant        80805         München   \n",
       "10           11       ULYSSES    Harding        75016           Paris   \n",
       "11           12    RUTHERFORD   Garfield        70563       Stuttgart   \n",
       "\n",
       "    Country  Score first_3  \n",
       "0    France     76     BIL  \n",
       "1   Germany     74     GER  \n",
       "5   Germany     65     GRO  \n",
       "10   France     50     ULY  \n",
       "11  Germany     79     RUT  "
      ]
     },
     "execution_count": 23,
     "metadata": {},
     "output_type": "execute_result"
    }
   ],
   "source": [
    "# first name contains A \n",
    "filter_cu = cu[cu['Last_Name'].str.contains('A',case=False)]\n",
    "filter_cu.head()"
   ]
  },
  {
   "cell_type": "code",
   "execution_count": 53,
   "id": "35cd7e9b-39ad-4bd7-8f98-578a99a9d9bb",
   "metadata": {},
   "outputs": [
    {
     "data": {
      "text/html": [
       "<div>\n",
       "<style scoped>\n",
       "    .dataframe tbody tr th:only-of-type {\n",
       "        vertical-align: middle;\n",
       "    }\n",
       "\n",
       "    .dataframe tbody tr th {\n",
       "        vertical-align: top;\n",
       "    }\n",
       "\n",
       "    .dataframe thead th {\n",
       "        text-align: right;\n",
       "    }\n",
       "</style>\n",
       "<table border=\"1\" class=\"dataframe\">\n",
       "  <thead>\n",
       "    <tr style=\"text-align: right;\">\n",
       "      <th></th>\n",
       "      <th>Customer_ID</th>\n",
       "      <th>Customer_Name</th>\n",
       "      <th>Last_Name</th>\n",
       "      <th>Postal_Code</th>\n",
       "      <th>City</th>\n",
       "      <th>Country</th>\n",
       "      <th>Score</th>\n",
       "      <th>first_3</th>\n",
       "    </tr>\n",
       "  </thead>\n",
       "  <tbody>\n",
       "  </tbody>\n",
       "</table>\n",
       "</div>"
      ],
      "text/plain": [
       "Empty DataFrame\n",
       "Columns: [Customer_ID, Customer_Name, Last_Name, Postal_Code, City, Country, Score, first_3]\n",
       "Index: []"
      ]
     },
     "execution_count": 53,
     "metadata": {},
     "output_type": "execute_result"
    }
   ],
   "source": [
    "# fist name last letter R \n",
    "filter_cu = cu[cu[\"Last_Name\"].str.endswith('eR',False)] # case sensitive\n",
    "filter_cu.head()\n",
    "filter_cu = cu[cu[\"Last_Name\"].str.lower().str.endswith('eR',False)]"
   ]
  },
  {
   "cell_type": "code",
   "execution_count": 59,
   "id": "04cf6085-bf98-47ff-a26a-eeadb7aa2c43",
   "metadata": {
    "scrolled": true
   },
   "outputs": [
    {
     "data": {
      "text/html": [
       "<div>\n",
       "<style scoped>\n",
       "    .dataframe tbody tr th:only-of-type {\n",
       "        vertical-align: middle;\n",
       "    }\n",
       "\n",
       "    .dataframe tbody tr th {\n",
       "        vertical-align: top;\n",
       "    }\n",
       "\n",
       "    .dataframe thead th {\n",
       "        text-align: right;\n",
       "    }\n",
       "</style>\n",
       "<table border=\"1\" class=\"dataframe\">\n",
       "  <thead>\n",
       "    <tr style=\"text-align: right;\">\n",
       "      <th></th>\n",
       "      <th>Customer_ID</th>\n",
       "      <th>Customer_Name</th>\n",
       "      <th>Last_Name</th>\n",
       "      <th>Postal_Code</th>\n",
       "      <th>City</th>\n",
       "      <th>Country</th>\n",
       "      <th>Score</th>\n",
       "      <th>first_3</th>\n",
       "    </tr>\n",
       "  </thead>\n",
       "  <tbody>\n",
       "    <tr>\n",
       "      <th>10</th>\n",
       "      <td>11</td>\n",
       "      <td>ULYSSES</td>\n",
       "      <td>Harding</td>\n",
       "      <td>75016</td>\n",
       "      <td>Paris</td>\n",
       "      <td>France</td>\n",
       "      <td>50</td>\n",
       "      <td>ULY</td>\n",
       "    </tr>\n",
       "    <tr>\n",
       "      <th>64</th>\n",
       "      <td>65</td>\n",
       "      <td>HARRY</td>\n",
       "      <td>Harding</td>\n",
       "      <td>97827</td>\n",
       "      <td>Elgin</td>\n",
       "      <td>USA</td>\n",
       "      <td>1</td>\n",
       "      <td>HAR</td>\n",
       "    </tr>\n",
       "    <tr>\n",
       "      <th>79</th>\n",
       "      <td>80</td>\n",
       "      <td>WILLIAM</td>\n",
       "      <td>Harding</td>\n",
       "      <td>59000</td>\n",
       "      <td>Lille</td>\n",
       "      <td>France</td>\n",
       "      <td>3</td>\n",
       "      <td>WIL</td>\n",
       "    </tr>\n",
       "    <tr>\n",
       "      <th>83</th>\n",
       "      <td>84</td>\n",
       "      <td>THOMAS</td>\n",
       "      <td>Harding</td>\n",
       "      <td>69004</td>\n",
       "      <td>Lyon</td>\n",
       "      <td>France</td>\n",
       "      <td>43</td>\n",
       "      <td>THO</td>\n",
       "    </tr>\n",
       "    <tr>\n",
       "      <th>142</th>\n",
       "      <td>143</td>\n",
       "      <td>HARRY</td>\n",
       "      <td>Harding</td>\n",
       "      <td>75012</td>\n",
       "      <td>Paris</td>\n",
       "      <td>France</td>\n",
       "      <td>20</td>\n",
       "      <td>HAR</td>\n",
       "    </tr>\n",
       "  </tbody>\n",
       "</table>\n",
       "</div>"
      ],
      "text/plain": [
       "     Customer_ID Customer_Name Last_Name  Postal_Code   City Country  Score  \\\n",
       "10            11       ULYSSES   Harding        75016  Paris  France     50   \n",
       "64            65         HARRY   Harding        97827  Elgin     USA      1   \n",
       "79            80       WILLIAM   Harding        59000  Lille  France      3   \n",
       "83            84        THOMAS   Harding        69004   Lyon  France     43   \n",
       "142          143         HARRY   Harding        75012  Paris  France     20   \n",
       "\n",
       "    first_3  \n",
       "10      ULY  \n",
       "64      HAR  \n",
       "79      WIL  \n",
       "83      THO  \n",
       "142     HAR  "
      ]
     },
     "execution_count": 59,
     "metadata": {},
     "output_type": "execute_result"
    }
   ],
   "source": [
    "#whose FIRST_NAME ends with ‘h’ and contains six alphabets.\n",
    "fil_cu = cu[(cu[\"Last_Name\"].str.len()==7) & (cu[\"Last_Name\"].str.endswith(\"g\"))]\n",
    "fil_cu.head()"
   ]
  },
  {
   "cell_type": "code",
   "execution_count": 65,
   "id": "95f263dd-79e0-4acb-bb16-446d61c071fa",
   "metadata": {
    "scrolled": true
   },
   "outputs": [
    {
     "data": {
      "text/html": [
       "<div>\n",
       "<style scoped>\n",
       "    .dataframe tbody tr th:only-of-type {\n",
       "        vertical-align: middle;\n",
       "    }\n",
       "\n",
       "    .dataframe tbody tr th {\n",
       "        vertical-align: top;\n",
       "    }\n",
       "\n",
       "    .dataframe thead th {\n",
       "        text-align: right;\n",
       "    }\n",
       "</style>\n",
       "<table border=\"1\" class=\"dataframe\">\n",
       "  <thead>\n",
       "    <tr style=\"text-align: right;\">\n",
       "      <th></th>\n",
       "      <th>Customer_ID</th>\n",
       "      <th>Customer_Name</th>\n",
       "      <th>Last_Name</th>\n",
       "      <th>Postal_Code</th>\n",
       "      <th>City</th>\n",
       "      <th>Country</th>\n",
       "      <th>Score</th>\n",
       "      <th>first_3</th>\n",
       "    </tr>\n",
       "  </thead>\n",
       "  <tbody>\n",
       "    <tr>\n",
       "      <th>3</th>\n",
       "      <td>4</td>\n",
       "      <td>DWIGHT</td>\n",
       "      <td>Coolidge</td>\n",
       "      <td>97219</td>\n",
       "      <td>Portland</td>\n",
       "      <td>USA</td>\n",
       "      <td>25</td>\n",
       "      <td>DWI</td>\n",
       "    </tr>\n",
       "    <tr>\n",
       "      <th>7</th>\n",
       "      <td>8</td>\n",
       "      <td>BILL</td>\n",
       "      <td>Roosevelt</td>\n",
       "      <td>82520</td>\n",
       "      <td>Lander</td>\n",
       "      <td>USA</td>\n",
       "      <td>27</td>\n",
       "      <td>BIL</td>\n",
       "    </tr>\n",
       "    <tr>\n",
       "      <th>13</th>\n",
       "      <td>14</td>\n",
       "      <td>JAMES</td>\n",
       "      <td>Roosevelt</td>\n",
       "      <td>24100</td>\n",
       "      <td>Bergamo</td>\n",
       "      <td>Italy</td>\n",
       "      <td>27</td>\n",
       "      <td>JAM</td>\n",
       "    </tr>\n",
       "    <tr>\n",
       "      <th>20</th>\n",
       "      <td>21</td>\n",
       "      <td>FRANKLIN</td>\n",
       "      <td>Johnson</td>\n",
       "      <td>44000</td>\n",
       "      <td>Nantes</td>\n",
       "      <td>France</td>\n",
       "      <td>38</td>\n",
       "      <td>FRA</td>\n",
       "    </tr>\n",
       "    <tr>\n",
       "      <th>25</th>\n",
       "      <td>26</td>\n",
       "      <td>HARRY</td>\n",
       "      <td>Truman</td>\n",
       "      <td>52066</td>\n",
       "      <td>Aachen</td>\n",
       "      <td>Germany</td>\n",
       "      <td>36</td>\n",
       "      <td>HAR</td>\n",
       "    </tr>\n",
       "  </tbody>\n",
       "</table>\n",
       "</div>"
      ],
      "text/plain": [
       "    Customer_ID Customer_Name  Last_Name  Postal_Code      City  Country  \\\n",
       "3             4        DWIGHT   Coolidge        97219  Portland      USA   \n",
       "7             8          BILL  Roosevelt        82520    Lander      USA   \n",
       "13           14         JAMES  Roosevelt        24100   Bergamo    Italy   \n",
       "20           21      FRANKLIN    Johnson        44000    Nantes   France   \n",
       "25           26         HARRY     Truman        52066    Aachen  Germany   \n",
       "\n",
       "    Score first_3  \n",
       "3      25     DWI  \n",
       "7      27     BIL  \n",
       "13     27     JAM  \n",
       "20     38     FRA  \n",
       "25     36     HAR  "
      ]
     },
     "execution_count": 65,
     "metadata": {},
     "output_type": "execute_result"
    }
   ],
   "source": [
    "fil_cu = cu[(cu[\"Score\"] >=25) & (cu[\"Score\"] <=40)]\n",
    "fil_cu.head()"
   ]
  },
  {
   "cell_type": "code",
   "execution_count": 73,
   "id": "b70e2221-37b5-4ed3-a049-4e97cabcc114",
   "metadata": {},
   "outputs": [
    {
     "data": {
      "text/plain": [
       "246"
      ]
     },
     "execution_count": 73,
     "metadata": {},
     "output_type": "execute_result"
    }
   ],
   "source": [
    "fil_france = cu[cu[\"Country\"]==\"France\"].shape[0]\n",
    "fil_france"
   ]
  }
 ],
 "metadata": {
  "kernelspec": {
   "display_name": "Python 3 (ipykernel)",
   "language": "python",
   "name": "python3"
  },
  "language_info": {
   "codemirror_mode": {
    "name": "ipython",
    "version": 3
   },
   "file_extension": ".py",
   "mimetype": "text/x-python",
   "name": "python",
   "nbconvert_exporter": "python",
   "pygments_lexer": "ipython3",
   "version": "3.11.7"
  }
 },
 "nbformat": 4,
 "nbformat_minor": 5
}
